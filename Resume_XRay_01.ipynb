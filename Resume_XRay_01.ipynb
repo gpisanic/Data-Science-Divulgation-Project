{
 "cells": [
  {
   "cell_type": "markdown",
   "metadata": {},
   "source": [
    "## Resume X-ray re 01\n",
    "Abstract\n",
    "Key words in your resume are used to filter against an opening, to understand how they can be efficiently extracted using a simple Python script is useful for improving your resume.\n",
    "Here is a simple cuasi pseudo code heavily commented to facilitate different audiences the purpose for each line or cell. Suggestions are welcomed!.\n",
    " Revision 01 04.18.21 - Importing nltk library for tokens and stopwords for natural language processing capacities."
   ]
  },
  {
   "cell_type": "code",
   "execution_count": 1,
   "metadata": {},
   "outputs": [],
   "source": [
    "import string\n",
    "\n",
    "from collections import Counter"
   ]
  },
  {
   "cell_type": "code",
   "execution_count": 2,
   "metadata": {},
   "outputs": [
    {
     "name": "stderr",
     "output_type": "stream",
     "text": [
      "[nltk_data] Downloading package stopwords to\n",
      "[nltk_data]     C:\\Users\\gpisa\\AppData\\Roaming\\nltk_data...\n",
      "[nltk_data]   Package stopwords is already up-to-date!\n",
      "[nltk_data] Downloading package punkt to\n",
      "[nltk_data]     C:\\Users\\gpisa\\AppData\\Roaming\\nltk_data...\n",
      "[nltk_data]   Package punkt is already up-to-date!\n"
     ]
    }
   ],
   "source": [
    "import nltk\n",
    "from nltk.corpus import stopwords\n",
    "nltk.download('stopwords')\n",
    "nltk.download('punkt')\n",
    "from nltk.tokenize import word_tokenize"
   ]
  },
  {
   "cell_type": "code",
   "execution_count": 3,
   "metadata": {
    "scrolled": true
   },
   "outputs": [],
   "source": [
    "resumexray = open('Gustavo_Resume.txt').read().lower().translate(str.maketrans('','',string.punctuation)) # file opened, normalized with no capitals and no punctuation."
   ]
  },
  {
   "cell_type": "code",
   "execution_count": 4,
   "metadata": {},
   "outputs": [],
   "source": [
    "tokens = nltk.word_tokenize(resumexray) # tokenizing"
   ]
  },
  {
   "cell_type": "code",
   "execution_count": 5,
   "metadata": {},
   "outputs": [],
   "source": [
    "tokens_key = [word for word in tokens if not word in stopwords.words()] # creating list of tokens"
   ]
  },
  {
   "cell_type": "code",
   "execution_count": 6,
   "metadata": {},
   "outputs": [],
   "source": [
    "count_key_words = Counter(tokens_key) # creating a dictionary of tokens and ocurrence."
   ]
  },
  {
   "cell_type": "code",
   "execution_count": 7,
   "metadata": {},
   "outputs": [],
   "source": [
    "lst = list() # extracts the data out of the dictionary and create a tuple list.\n",
    "for key, val in list(count_key_words.items()): \n",
    "    lst.append((val,key)) # appending to the list. A list of tuple in value, key order"
   ]
  },
  {
   "cell_type": "code",
   "execution_count": 8,
   "metadata": {},
   "outputs": [
    {
     "name": "stdout",
     "output_type": "stream",
     "text": [
      "data\n",
      "supply\n",
      "chain\n",
      "management\n",
      "venezuela\n",
      "digital\n",
      "business\n",
      "category\n",
      "sap\n",
      "responsible\n"
     ]
    }
   ],
   "source": [
    "lst.sort(reverse=True) # sort backwards the value key tuple lst and assign it back to the list lst variable. Descending order\n",
    "for val,key in lst[0:10]: # Look for the top 10 relevant words.\n",
    "    print(key) # Printing it in the order of the members of the tuple; val"
   ]
  }
 ],
 "metadata": {
  "celltoolbar": "Tags",
  "kernelspec": {
   "display_name": "Python 3",
   "language": "python",
   "name": "python3"
  },
  "language_info": {
   "codemirror_mode": {
    "name": "ipython",
    "version": 3
   },
   "file_extension": ".py",
   "mimetype": "text/x-python",
   "name": "python",
   "nbconvert_exporter": "python",
   "pygments_lexer": "ipython3",
   "version": "3.8.5"
  },
  "metadata": {
   "interpreter": {
    "hash": "c6ca5e65923506cf6c363d33781da641f2a2436c0aaecc4703ecc06135ab5716"
   }
  }
 },
 "nbformat": 4,
 "nbformat_minor": 4
}
