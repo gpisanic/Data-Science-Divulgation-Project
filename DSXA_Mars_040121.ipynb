{
 "cells": [
  {
   "cell_type": "markdown",
   "metadata": {},
   "source": [
    "Send a kid to Mars!\n",
    "\n",
    "Data Science is the literacy of this century and we can't afford to have illiterate around us destined to suffer a digital gap that grows every day. The purpose of this post series is to raise awareness of the digital transformation required by non-technical persons, and the objective is to use plain language to convey key messages and facilitate engagement to anyone interested and ultimately close the digital gap.\n",
    "Let's start by saying that Data Science is used to understand the world - and space - thanks to the collaboration of multiple fields. For instance, in the area of Computer Vision, it is possible to identify from images,i.e. X-rays, Scans, early ocurrence of malign tumors in a patient. The input of doctors and radiologists is required to validate the findings but the speed and accuracy is improved to a great deal.\n",
    "Similar examples of different domains,i.e. landing (sic) Perseverance rover in Mars required a lot of Data Science efforts, when comparing the red terrain with data to avoid a crash, and it did it after seven minutes of terror!. Again, the input of a number of disciplines enabled the operation to get there safely and start with a selfie send to earth in no time.\n",
    "By now you can imagine the volume of data, lines of programs (Pyhthon and others), processes and algorithms (we will get there in next issues), required for this incredible task. This is a great example of the emulation of human thinking called Machine Learning as part of the Data Science offerings.\n",
    "As we are now talking of Mars, I would like to invite you to start your Data Science journey in a similar way that the Apollo mission to the moon did so many years ago - remember ? - one small step.\n",
    "Say you are willing to learn Python - the language that is becoming the abc for Data Science and your first line of code looks as follows;\n",
    ">>>print(\"Hello, Mars!\") #And you guessed, it will print;\n",
    "Hello, Mars!"
   ]
  },
  {
   "cell_type": "code",
   "execution_count": 4,
   "metadata": {},
   "outputs": [
    {
     "name": "stdout",
     "output_type": "stream",
     "text": [
      "Hello, Mars\n"
     ]
    }
   ],
   "source": [
    "print (\"Hello, Mars\")"
   ]
  },
  {
   "cell_type": "markdown",
   "metadata": {},
   "source": [
    "But if you are too busy to learn Python, I beg you, don't miss this opportunity for a kid in your family or neighborhood. You could send that mind to the red planet.\n",
    "Better yet, you could show that litle person the power of few lines of codes that could send a message to the Nasa's Perseverance by using Morse Code.\n",
    "The source of the program is here https://www.jpl.nasa.gov/edu/learn/project/code-a-mars-landing/\n",
    "And the actual line is here below - please remember to share if you are not willing to send your message;"
   ]
  },
  {
   "cell_type": "code",
   "execution_count": 3,
   "metadata": {},
   "outputs": [
    {
     "name": "stdout",
     "output_type": "stream",
     "text": [
      "Enter Message: Hello Mars from Data Science for All DSXA\n",
      " .... . .-.. .-.. ---  -- .- .-. ...  ..-. .-. --- --  -.. .- - .-  ... -.-. .. . -. -.-. .  ..-. --- .-.  .- .-.. .-..  -.. ... -..- .- \n"
     ]
    }
   ],
   "source": [
    "Morse_Dict = { 'A':'.-', 'B':'-...', 'C':'-.-.', 'D':'-..', 'E':'.',\n",
    "'F':'..-.', 'G':'--.', 'H':'....', 'I':'..', 'J':'.---', 'K':'-.-',\n",
    "'L':'.-..', 'M':'--', 'N':'-.', 'O':'---', 'P':'.--.', 'Q':'--.-',\n",
    "'R':'.-.', 'S':'...', 'T':'-', 'U':'..-', 'V':'...-', 'W':'.--',\n",
    "'X':'-..-', 'Y':'-.--', 'Z':'--..'}\n",
    "\n",
    "def encrypt(message):\n",
    "    convert = ' '\n",
    "    for letter in message:\n",
    "        if letter != ' ':\n",
    "            convert += Morse_Dict[letter] + ' '\n",
    "        else:\n",
    "            convert += ' '\n",
    "    return convert\n",
    "\n",
    "def decrypt(message):\n",
    "    message += ' '\n",
    "    decode = ''\n",
    "    text = ''\n",
    "    for letter in message:\n",
    "        if (letter != ' '):\n",
    "            i = 0\n",
    "            text += letter\n",
    "        else:\n",
    "            i += 1\n",
    "            if i == 2:\n",
    "                decode += ' '\n",
    "            else:\n",
    "                decode += list(Morse_Dict.keys())[list(Morse_Dict.values()).index(text)]\n",
    "                text = ''\n",
    "    return decode\n",
    "\n",
    "def main():\n",
    "    text = input(\"Enter Message: \")\n",
    "    output = encrypt(text.upper())\n",
    "    print(output)\n",
    "if __name__ == '__main__':\n",
    "    main()\n",
    "    "
   ]
  },
  {
   "cell_type": "markdown",
   "metadata": {},
   "source": [
    "That dotted message could reach perseverance thanks to Data Science, Python and effort to close the digital gap!"
   ]
  }
 ],
 "metadata": {
  "kernelspec": {
   "display_name": "Python 3",
   "language": "python",
   "name": "python3"
  },
  "language_info": {
   "codemirror_mode": {
    "name": "ipython",
    "version": 3
   },
   "file_extension": ".py",
   "mimetype": "text/x-python",
   "name": "python",
   "nbconvert_exporter": "python",
   "pygments_lexer": "ipython3",
   "version": "3.8.5"
  }
 },
 "nbformat": 4,
 "nbformat_minor": 4
}
