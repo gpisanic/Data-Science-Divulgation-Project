{
 "cells": [
  {
   "cell_type": "markdown",
   "metadata": {
    "tags": [
     "#DataScienceforAll",
     "#Resume_X-ray"
    ]
   },
   "source": [
    " Resume X-ray\n",
    " Abstract\n",
    " Key words in your resume are used to filter against an opening, to understand how they can be efficiently extracted using a simple Python script is useful for improving your resume.\n",
    " Here is a simple cuasi pseudo code heavily commented to facilitate different audiences the purpose for each line or cell. Suggestions are welcomed!."
   ]
  },
  {
   "cell_type": "code",
   "execution_count": 13,
   "metadata": {
    "scrolled": true
   },
   "outputs": [],
   "source": [
    "resumexray = open('Gustavo_Resume.txt') # file opened"
   ]
  },
  {
   "cell_type": "code",
   "execution_count": 4,
   "metadata": {},
   "outputs": [],
   "source": [
    "counts = dict() # dictionary created"
   ]
  },
  {
   "cell_type": "code",
   "execution_count": 6,
   "metadata": {},
   "outputs": [],
   "source": [
    "for line in resumexray: # loops through the lines of the file. Outer loop\n",
    "    words = line.split() # splits the words in the file\n",
    "    for word in words: # for each line loops through the words. Inner loop\n",
    "        counts[word] = counts.get(word,0) + 1 # creates histogram of words and counts"
   ]
  },
  {
   "cell_type": "code",
   "execution_count": 7,
   "metadata": {},
   "outputs": [],
   "source": [
    "lst = list() # extracts the data out of the dictionary and create a reverse tuple.\n",
    "for key, val in counts.items():\n",
    "    newtup = (val,key) # variable newtup with a tuple value, key. A tuple assignment \n",
    "    lst.append(newtup) # appending to the list. A list of tuple in value, key (key is now value) order"
   ]
  },
  {
   "cell_type": "code",
   "execution_count": 14,
   "metadata": {},
   "outputs": [
    {
     "name": "stdout",
     "output_type": "stream",
     "text": [
      "15 data\n",
      "15 Supply\n",
      "13 Data\n"
     ]
    }
   ],
   "source": [
    "#  A list of tuple in value,key ordered has been created by appending each tuple of the loop to newtup\n",
    "lst = sorted(lst,reverse=True) # sort backwards the value key tuple lst and assign it back to the list lst variable. Descending order\n",
    "for val,key in lst[10:13]: # Look for the top 3 relevant keys. Slicing with [10:] from 9th to 11th. after non relevant first 9 words.\n",
    "    print(val,key) # Printing it in the order of the members of the tuple; val, key"
   ]
  }
 ],
 "metadata": {
  "celltoolbar": "Tags",
  "kernelspec": {
   "display_name": "Python 3",
   "language": "python",
   "name": "python3"
  },
  "language_info": {
   "codemirror_mode": {
    "name": "ipython",
    "version": 3
   },
   "file_extension": ".py",
   "mimetype": "text/x-python",
   "name": "python",
   "nbconvert_exporter": "python",
   "pygments_lexer": "ipython3",
   "version": "3.8.5"
  }
 },
 "nbformat": 4,
 "nbformat_minor": 4
}
